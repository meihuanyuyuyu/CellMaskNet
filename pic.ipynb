{
 "cells": [
  {
   "cell_type": "code",
   "execution_count": 14,
   "metadata": {},
   "outputs": [],
   "source": [
    "import matplotlib.pyplot as plt\n",
    "import numpy as np\n",
    "import torch\n",
    "from torchvision.utils import draw_segmentation_masks,save_image,make_grid\n",
    "from torch.nn.functional import one_hot\n",
    "\n",
    "\n",
    "img_idxes = [4208,2393]\n",
    "batches =  []\n",
    "imgs = torch.from_numpy(np.load('project_conic/CoNIC_Challenge/images.npy').astype(np.float64)/255).float().permute(0,3,1,2).contiguous()\n",
    "labels = torch.from_numpy(np.load('project_conic/CoNIC_Challenge/labels.npy').astype(np.float64)).long().permute(0,3,1,2).contiguous()\n",
    "color = torch.tensor([[0,0,0],[1,0,0],[0,1,0],[0,0,1],[1,1,0],[1,0,1],[0,1,1]],dtype=torch.float32,device='cuda')\n",
    "for img_idx in img_idxes:\n",
    "    mask_map = labels[img_idx,1].cuda()\n",
    "    instance_map = labels[img_idx,0].cuda()\n",
    "    #(3,h,w)\n",
    "    mask = color[mask_map].permute(2,0,1)\n",
    "    #(num,h,w)\n",
    "    instance_map = one_hot(instance_map,num_classes=instance_map.max()+1).permute(2,0,1)[1:].bool()\n",
    "\n",
    "    background = torch.zeros(3,256,256,dtype=torch.uint8)\n",
    "    instance =draw_segmentation_masks(background,instance_map,alpha=0.7)/ 255\n",
    "    batches.append(imgs[img_idx])\n",
    "    batches.append(instance)\n",
    "    batches.append(mask.cpu())\n",
    "batches =make_grid(batches,3)\n",
    "save_image(batches ,'testpic2.png')"
   ]
  },
  {
   "cell_type": "code",
   "execution_count": 3,
   "metadata": {},
   "outputs": [],
   "source": [
    "import numpy as np\n",
    "import torch\n",
    "from torchvision.utils import draw_segmentation_masks,save_image,make_grid\n",
    "from torch.nn.functional import one_hot\n",
    "\n",
    "img_idxes = [2393]\n",
    "batches =  []\n",
    "imgs = torch.from_numpy(np.load('project_conic/CoNIC_Challenge/images.npy').astype(np.float64)/255).float().permute(0,3,1,2).contiguous()\n",
    "labels = torch.from_numpy(np.load('project_conic/CoNIC_Challenge/labels.npy').astype(np.float64)).long().permute(0,3,1,2).contiguous()\n",
    "color = torch.tensor([[0,0,0],[1,0,0],[0,1,0],[0,0,1],[1,1,0],[1,0,1],[0,1,1]],dtype=torch.float32,device='cuda')\n",
    "\n",
    "for idx in img_idxes:\n",
    "    mask_map = labels[idx,1].cuda()\n",
    "    instance_map = labels[idx,0].cuda()\n",
    "    mask = color[mask_map].permute(2,0,1).cpu()\n",
    "    instance_map = one_hot(instance_map,num_classes=instance_map.max()+1).permute(2,0,1)[1:].bool()\n",
    "    instance = draw_segmentation_masks((imgs[idx]*255).to(dtype=torch.uint8),instance_map,0.7)/255\n",
    "    pic=make_grid([instance,mask],1)\n",
    "    save_image(pic,'testpic.png')"
   ]
  }
 ],
 "metadata": {
  "kernelspec": {
   "display_name": "Python 3.8.10 64-bit",
   "language": "python",
   "name": "python3"
  },
  "language_info": {
   "codemirror_mode": {
    "name": "ipython",
    "version": 3
   },
   "file_extension": ".py",
   "mimetype": "text/x-python",
   "name": "python",
   "nbconvert_exporter": "python",
   "pygments_lexer": "ipython3",
   "version": "3.8.10"
  },
  "orig_nbformat": 4,
  "vscode": {
   "interpreter": {
    "hash": "31f2aee4e71d21fbe5cf8b01ff0e069b9275f58929596ceb00d14d90e3e16cd6"
   }
  }
 },
 "nbformat": 4,
 "nbformat_minor": 2
}
