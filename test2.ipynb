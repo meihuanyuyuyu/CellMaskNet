{
 "cells": [
  {
   "cell_type": "code",
<<<<<<< HEAD
   "execution_count": 6,
=======
   "execution_count": null,
   "metadata": {},
   "outputs": [],
   "source": [
    "import torch\n",
    "\n",
    "a:dict= torch.load('model_parameters/maskrcnn_stage3.pt',)\n",
    "print(a['box_detection.cls_score.weight'])\n",
    "\n"
   ]
  },
  {
   "cell_type": "code",
   "execution_count": 11,
   "metadata": {},
   "outputs": [
    {
     "name": "stdout",
     "output_type": "stream",
     "text": [
      "d1 Sequential(\n",
      "  (conv1): Conv2d(2, 3, kernel_size=(1, 1), stride=(1, 1))\n",
      "  (relu1): ReLU()\n",
      ")\n",
      "d2 Sequential(\n",
      "  (conv2): Conv2d(2, 3, kernel_size=(1, 1), stride=(1, 1))\n",
      "  (relu2): ReLU()\n",
      ")\n"
     ]
    }
   ],
   "source": [
    "import torch.nn as nn\n",
    "from collections import OrderedDict\n",
    "\n",
    "a = nn.ModuleDict(\n",
    "    OrderedDict([\n",
    "        ('d1',nn.Sequential(OrderedDict([('conv1',nn.Conv2d(2,3,1)),('relu1',nn.ReLU())]))),\n",
    "        ('d2',nn.Sequential(OrderedDict([('conv2',nn.Conv2d(2,3,1)),('relu2',nn.ReLU())])))\n",
    "    ])\n",
    ")\n",
    "for k,v in a.items():\n",
    "    print(k,v)"
   ]
  },
  {
   "cell_type": "code",
   "execution_count": 15,
   "metadata": {},
   "outputs": [
    {
     "name": "stdout",
     "output_type": "stream",
     "text": [
      "ModuleDict(\n",
      "  (d1): Sequential(\n",
      "    (conv1): Conv2d(2, 3, kernel_size=(1, 1), stride=(1, 1))\n",
      "    (relu1): ReLU()\n",
      "  )\n",
      "  (d2): Sequential(\n",
      "    (conv2): Conv2d(2, 3, kernel_size=(1, 1), stride=(1, 1))\n",
      "    (relu2): ReLU()\n",
      "  )\n",
      ")\n",
      "moduledict\n",
      "Sequential(\n",
      "  (conv1): Conv2d(2, 3, kernel_size=(1, 1), stride=(1, 1))\n",
      "  (relu1): ReLU()\n",
      ")\n",
      "sequential\n",
      "Conv2d(2, 3, kernel_size=(1, 1), stride=(1, 1))\n",
      "conv2d\n",
      "yes\n",
      "ReLU()\n",
      "relu\n",
      "Sequential(\n",
      "  (conv2): Conv2d(2, 3, kernel_size=(1, 1), stride=(1, 1))\n",
      "  (relu2): ReLU()\n",
      ")\n",
      "sequential\n",
      "Conv2d(2, 3, kernel_size=(1, 1), stride=(1, 1))\n",
      "conv2d\n",
      "yes\n",
      "ReLU()\n",
      "relu\n"
     ]
    }
   ],
   "source": [
    "for i in a.modules():\n",
    "    classname = i.__class__.__name__\n",
    "    print(i)\n",
    "    print(classname.lower())\n",
    "    if isinstance(i,nn.Conv2d):\n",
    "        print('yes')\n"
   ]
  },
  {
   "cell_type": "code",
   "execution_count": 17,
>>>>>>> 6dc4f202d2309e64258ef13186ce4bc6a77654ce
   "metadata": {},
   "outputs": [
    {
     "name": "stdout",
     "output_type": "stream",
     "text": [
<<<<<<< HEAD
      "tensor([[9.9991e-01, 4.5396e-05, 4.5396e-05]])\n"
=======
      "torch.Size([28])\n"
>>>>>>> 6dc4f202d2309e64258ef13186ce4bc6a77654ce
     ]
    }
   ],
   "source": [
    "import torch\n",
    "from torch.nn.functional import cross_entropy\n",
    "\n",
<<<<<<< HEAD
    "a = torch.tensor([[10,0,0]],dtype=torch.float32)\n",
    "a = a.softmax(dim=1)\n",
    "print(a)\n",
=======
    "a = torch.rand(7,4)\n",
    "b = torch.ones(7,4)\n",
    "print(a[b.bool()].shape)"
   ]
  },
  {
   "cell_type": "code",
   "execution_count": 2,
   "metadata": {},
   "outputs": [
    {
     "data": {
      "text/plain": [
       "[7, 2, 1]"
      ]
     },
     "execution_count": 2,
     "metadata": {},
     "output_type": "execute_result"
    }
   ],
   "source": [
    "a = [3,2,1]\n",
    "\n",
    "[7 if idx==0 else a[idx] for idx in range(len(a))]"
   ]
  },
  {
   "cell_type": "code",
   "execution_count": 14,
   "metadata": {},
   "outputs": [
    {
     "name": "stderr",
     "output_type": "stream",
     "text": [
      "WARNING:root:This is a warning message\n",
      "ERROR:root:This is an error message\n",
      "CRITICAL:root:This is a critical message\n"
     ]
    }
   ],
   "source": [
    "import logging\n",
    "\n",
    "logging.basicConfig(filename=\"test.log\", filemode=\"w\", format=\"%(asctime)s %(name)s:%(levelname)s:%(message)s\", datefmt=\"%d-%m-%Y %H:%M:%S\", level=logging.DEBUG)\n",
    "logging.debug('This is a debug message')\n",
    "logging.info('This is an info message')\n",
    "logging.warning('This is a warning message')\n",
    "logging.error('This is an error message')\n",
    "logging.critical('This is a critical message')\n",
    "\n",
>>>>>>> 6dc4f202d2309e64258ef13186ce4bc6a77654ce
    "\n"
   ]
  }
 ],
 "metadata": {
  "kernelspec": {
   "display_name": "Python 3.8.10 64-bit",
   "language": "python",
   "name": "python3"
  },
  "language_info": {
   "codemirror_mode": {
    "name": "ipython",
    "version": 3
   },
   "file_extension": ".py",
   "mimetype": "text/x-python",
   "name": "python",
   "nbconvert_exporter": "python",
   "pygments_lexer": "ipython3",
   "version": "3.10.4"
  },
  "orig_nbformat": 4,
  "vscode": {
   "interpreter": {
    "hash": "31f2aee4e71d21fbe5cf8b01ff0e069b9275f58929596ceb00d14d90e3e16cd6"
   }
  }
 },
 "nbformat": 4,
 "nbformat_minor": 2
}
