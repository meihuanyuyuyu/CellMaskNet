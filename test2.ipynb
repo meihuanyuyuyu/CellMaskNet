{
 "cells": [
  {
   "cell_type": "code",
   "execution_count": 6,
   "metadata": {},
   "outputs": [
    {
     "name": "stdout",
     "output_type": "stream",
     "text": [
      "tensor([[ 0.0065, -0.0187, -0.0254,  ...,  0.0107,  0.0049, -0.0118],\n",
      "        [-0.1329, -0.0179, -0.0571,  ...,  0.0019,  0.0351, -0.4926],\n",
      "        [ 0.0160,  0.0441,  0.0045,  ..., -0.0429,  0.0082,  0.0855],\n",
      "        ...,\n",
      "        [-0.0277,  0.0318, -0.0375,  ...,  0.0192,  0.0195, -0.2087],\n",
      "        [-0.3233, -0.0061, -0.0544,  ..., -0.1071,  0.0205, -0.5878],\n",
      "        [ 0.0176,  0.0322,  0.0016,  ..., -0.0225,  0.0032, -0.0200]],\n",
      "       device='cuda:0')\n"
     ]
    },
    {
     "ename": "",
     "evalue": "",
     "output_type": "error",
     "traceback": [
      "\u001b[1;31mThe Kernel crashed while executing code in the the current cell or a previous cell. Please review the code in the cell(s) to identify a possible cause of the failure. Click <a href='https://aka.ms/vscodeJupyterKernelCrash'>here</a> for more info. View Jupyter <a href='command:jupyter.viewOutput'>log</a> for further details."
     ]
    }
   ],
   "source": [
    "import torch\n",
    "\n",
    "a:dict= torch.load('model_parameters/maskrcnn_stage3.pt',)\n",
    "print(a['box_detection.cls_score.weight'])\n",
    "\n"
   ]
  },
  {
   "cell_type": "code",
   "execution_count": null,
   "metadata": {},
   "outputs": [],
   "source": []
  }
 ],
 "metadata": {
  "kernelspec": {
   "display_name": "Python 3.8.10 64-bit",
   "language": "python",
   "name": "python3"
  },
  "language_info": {
   "codemirror_mode": {
    "name": "ipython",
    "version": 3
   },
   "file_extension": ".py",
   "mimetype": "text/x-python",
   "name": "python",
   "nbconvert_exporter": "python",
   "pygments_lexer": "ipython3",
   "version": "3.8.10"
  },
  "orig_nbformat": 4,
  "vscode": {
   "interpreter": {
    "hash": "31f2aee4e71d21fbe5cf8b01ff0e069b9275f58929596ceb00d14d90e3e16cd6"
   }
  }
 },
 "nbformat": 4,
 "nbformat_minor": 2
}
